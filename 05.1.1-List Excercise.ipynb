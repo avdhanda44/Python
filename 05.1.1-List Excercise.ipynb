{
 "cells": [
  {
   "cell_type": "markdown",
   "metadata": {},
   "source": [
    "<h1>Exercise: On List</h1>"
   ]
  },
  {
   "cell_type": "markdown",
   "metadata": {},
   "source": [
    "Let us say your expense for every month are listed below,\n",
    "\n",
    "    January - 2200\n",
    "    February - 2350\n",
    "    March - 2600\n",
    "    April - 2130\n",
    "    May - 2190\n"
   ]
  },
  {
   "cell_type": "markdown",
   "metadata": {},
   "source": [
    "Create a list to store these monthly expenses and using that find out,\n",
    "\n",
    "1. In Feb, how many dollars you spent extra compare to January?\n",
    "2. Find out your total expense in first quarter (first three months) of the year.\n",
    "3. Find out if you spent exactly 2000 dollars in any month\n",
    "4. June month just finished and your expense is 1980 dollar. Add this item to our monthly expense list\n",
    "5. You returned an item that you bought in a month of April and got a refund of 200$. Make a correction to your monthly expense list\n",
    "based on this"
   ]
  },
  {
   "cell_type": "code",
   "execution_count": 108,
   "metadata": {},
   "outputs": [],
   "source": [
    "expenses=[2200, 2350, 2600, 2130, 2190]"
   ]
  },
  {
   "cell_type": "markdown",
   "metadata": {},
   "source": [
    "1. In Feb, how many dollars you spent extra compare to January?"
   ]
  },
  {
   "cell_type": "code",
   "execution_count": 109,
   "metadata": {},
   "outputs": [
    {
     "name": "stdout",
     "output_type": "stream",
     "text": [
      "The difference between the expenses in first and second month is:  150\n"
     ]
    }
   ],
   "source": [
    "expenses_difference=expenses[1]-expenses[0]\n",
    "print(\"The difference between the expenses in first and second month is: \",expenses_difference)"
   ]
  },
  {
   "cell_type": "markdown",
   "metadata": {},
   "source": [
    "2. Find out your total expense in first quarter (first three months) of the year."
   ]
  },
  {
   "cell_type": "code",
   "execution_count": 110,
   "metadata": {},
   "outputs": [
    {
     "name": "stdout",
     "output_type": "stream",
     "text": [
      "The total expenses in first there months is:  4550\n"
     ]
    }
   ],
   "source": [
    "sum(expenses[0:2])\n",
    "print(\"The total expenses in first there months is: \",sum(expenses[0:2]))"
   ]
  },
  {
   "cell_type": "markdown",
   "metadata": {},
   "source": [
    "3. Find out if you spent exactly 2000 dollars in any month"
   ]
  },
  {
   "cell_type": "code",
   "execution_count": 111,
   "metadata": {},
   "outputs": [
    {
     "name": "stdout",
     "output_type": "stream",
     "text": [
      "2200 this value is not equal to 2000\n",
      "2350 this value is not equal to 2000\n",
      "2600 this value is not equal to 2000\n",
      "2130 this value is not equal to 2000\n",
      "2190 this value is not equal to 2000\n"
     ]
    }
   ],
   "source": [
    "for i in expenses:\n",
    "    if i==2000:\n",
    "        print(i,\"this value is equal to 2000\")\n",
    "    else:\n",
    "        print(i,\"this value is not equal to 2000\")"
   ]
  },
  {
   "cell_type": "markdown",
   "metadata": {},
   "source": [
    "4. June month just finished and your expense is 1980 dollar. Add this item to our monthly expense list"
   ]
  },
  {
   "cell_type": "code",
   "execution_count": 112,
   "metadata": {},
   "outputs": [
    {
     "name": "stdout",
     "output_type": "stream",
     "text": [
      "The expenses in June month is:  1980\n"
     ]
    }
   ],
   "source": [
    "expenses.append(1980)\n",
    "print(\"The expenses in June month is: \",expenses[5])"
   ]
  },
  {
   "cell_type": "markdown",
   "metadata": {},
   "source": [
    "5. You returned an item that you bought in a month of April and got a refund of 200$. Make a correction to your monthly expense list\n",
    "based on this"
   ]
  },
  {
   "cell_type": "code",
   "execution_count": 113,
   "metadata": {},
   "outputs": [
    {
     "name": "stdout",
     "output_type": "stream",
     "text": [
      "The expenses in April month is:  1930\n"
     ]
    }
   ],
   "source": [
    "expenses[3]=expenses[3]-200\n",
    "print(\"The expenses in April month is: \",expenses[3])\n"
   ]
  },
  {
   "cell_type": "markdown",
   "metadata": {},
   "source": [
    "\n",
    "You have a list of your favourite marvel super heros."
   ]
  },
  {
   "cell_type": "code",
   "execution_count": 114,
   "metadata": {},
   "outputs": [],
   "source": [
    "heros=['spider man','thor','hulk','iron man','captain america']"
   ]
  },
  {
   "cell_type": "markdown",
   "metadata": {},
   "source": [
    "Using this find out,\n",
    "1. Length of the list\n",
    "2. Add 'black panther' at the end of this list\n",
    "3. You realize that you need to add 'black panther' after 'hulk',\n",
    "   so remove it from the list first and then add it after 'hulk'\n",
    "4. Now you don't like thor and hulk because they get angry easily :)\n",
    "   So you want to remove thor and hulk from list and replace them with Doctor strange (because he is cool).\n",
    "   Do that with one line of code.\n",
    "5. Sort the heros list in alphabetical order (Hint. Use dir() functions to list down all functions available in list)"
   ]
  },
  {
   "cell_type": "markdown",
   "metadata": {},
   "source": [
    "1. Length of the list"
   ]
  },
  {
   "cell_type": "code",
   "execution_count": 115,
   "metadata": {},
   "outputs": [
    {
     "name": "stdout",
     "output_type": "stream",
     "text": [
      "Length of the heros list is 5\n"
     ]
    }
   ],
   "source": [
    "print(\"Length of the heros list is\", len(heros))"
   ]
  },
  {
   "cell_type": "markdown",
   "metadata": {},
   "source": [
    "2. Add 'black panther' at the end of this list"
   ]
  },
  {
   "cell_type": "code",
   "execution_count": 116,
   "metadata": {},
   "outputs": [],
   "source": [
    "heros.append('black panther')"
   ]
  },
  {
   "cell_type": "markdown",
   "metadata": {},
   "source": [
    "3. You realize that you need to add 'black panther' after 'hulk',\n",
    "   so remove it from the list first and then add it after 'hulk'"
   ]
  },
  {
   "cell_type": "code",
   "execution_count": 117,
   "metadata": {},
   "outputs": [
    {
     "name": "stdout",
     "output_type": "stream",
     "text": [
      "['spider man', 'thor', 'hulk', 'iron man', 'captain america']\n"
     ]
    }
   ],
   "source": [
    "# removing the black panther from the list \n",
    "heros.remove('black panther')\n",
    "print(heros)"
   ]
  },
  {
   "cell_type": "code",
   "execution_count": 118,
   "metadata": {},
   "outputs": [
    {
     "name": "stdout",
     "output_type": "stream",
     "text": [
      "['spider man', 'thor', 'hulk', 'black panther', 'iron man', 'captain america']\n"
     ]
    }
   ],
   "source": [
    "# adding black panther at 3rd position\n",
    "heros.insert(3,'black panther')\n",
    "print(heros)"
   ]
  },
  {
   "cell_type": "markdown",
   "metadata": {},
   "source": [
    "4. Now you don't like thor and hulk because they get angry easily :)\n",
    "   So you want to remove thor and hulk from list and replace them with Doctor strange (because he is cool).\n",
    "   Do that with one line of code."
   ]
  },
  {
   "cell_type": "code",
   "execution_count": 119,
   "metadata": {},
   "outputs": [
    {
     "name": "stdout",
     "output_type": "stream",
     "text": [
      "['spider man', 'black panther', 'iron man', 'captain america']\n"
     ]
    }
   ],
   "source": [
    "#removing thor and hulk from the list\n",
    "heros.remove('thor')\n",
    "heros.remove('hulk')\n",
    "print(heros)"
   ]
  },
  {
   "cell_type": "code",
   "execution_count": 120,
   "metadata": {},
   "outputs": [
    {
     "name": "stdout",
     "output_type": "stream",
     "text": [
      "['spider man', 'Doctor Strange', 'black panther', 'iron man', 'captain america']\n"
     ]
    }
   ],
   "source": [
    "#adding Dr. Strange at the place of thor\n",
    "heros.insert(1,'Doctor Strange')\n",
    "print(heros)"
   ]
  },
  {
   "cell_type": "markdown",
   "metadata": {},
   "source": [
    "5. Sort the heros list in alphabetical order (Hint. Use dir() functions to list down all functions available in list)"
   ]
  },
  {
   "cell_type": "code",
   "execution_count": 121,
   "metadata": {},
   "outputs": [
    {
     "name": "stdout",
     "output_type": "stream",
     "text": [
      "['Doctor Strange', 'black panther', 'captain america', 'iron man', 'spider man']\n"
     ]
    }
   ],
   "source": [
    "heros.sort()    \n",
    "print(heros)   "
   ]
  },
  {
   "cell_type": "markdown",
   "metadata": {},
   "source": [
    "The above code first CAP case get short then rest. To solve this problem we will use <b>\"lower Function\"</b> this will ignore the case of the list element and sort them in alphabetical order."
   ]
  },
  {
   "cell_type": "code",
   "execution_count": 122,
   "metadata": {},
   "outputs": [
    {
     "name": "stdout",
     "output_type": "stream",
     "text": [
      "['black panther', 'captain america', 'Doctor Strange', 'iron man', 'spider man']\n"
     ]
    }
   ],
   "source": [
    "# To ignore the case we have to use lower function\n",
    "heros.sort(key=str.lower)\n",
    "print(heros)"
   ]
  }
 ],
 "metadata": {
  "kernelspec": {
   "display_name": "Python 3",
   "language": "python",
   "name": "python3"
  },
  "language_info": {
   "codemirror_mode": {
    "name": "ipython",
    "version": 3
   },
   "file_extension": ".py",
   "mimetype": "text/x-python",
   "name": "python",
   "nbconvert_exporter": "python",
   "pygments_lexer": "ipython3",
   "version": "3.9.6"
  }
 },
 "nbformat": 4,
 "nbformat_minor": 2
}
