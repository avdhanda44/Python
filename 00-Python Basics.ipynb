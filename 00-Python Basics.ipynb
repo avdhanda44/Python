{
 "cells": [
  {
   "cell_type": "markdown",
   "id": "3663b995",
   "metadata": {},
   "source": [
    "# Various Datatypes in Python\n",
    "In Python, we need not declare a datatype while declaring a variable like C or C++\n",
    "\n",
    "\n",
    "- Numeric Types:\tint, float, complex\n",
    "- Boolean Type:\t    bool\n",
    "- Text Type:     \tstr\n",
    "- Sequence Types:\tlist, tuple, range\n",
    "- Set Types:    \tset, frozenset\n",
    "- Mapping Type:\t    dict\n",
    "- Binary Types:\t    bytes, bytearray, memoryview\n",
    "- None Type:\t    NoneType"
   ]
  },
  {
   "cell_type": "markdown",
   "id": "40a1f7cd",
   "metadata": {},
   "source": [
    "## Numeric Data Type\n",
    "\n",
    "Python numeric data type is used to hold numeric values like;\n",
    "\n",
    "- int - holds signed integers of non-limited length.\n",
    "- long- holds long integers(exists in Python 2.x, deprecated in Python 3.x).\n",
    "- float- holds floating precision numbers and it’s accurate up to 15 decimal places.\n",
    "- complex- holds complex numbers.\n"
   ]
  },
  {
   "cell_type": "markdown",
   "id": "d54d35da",
   "metadata": {},
   "source": [
    "Variable Assignment\n",
    "\n",
    "Syntax:\n",
    "<div style=\"background-color: lightblue; padding: 10px;\">\n",
    "var_name = values\n",
    "</div>"
   ]
  },
  {
   "cell_type": "code",
   "execution_count": 1,
   "id": "5cc88b4b",
   "metadata": {},
   "outputs": [
    {
     "data": {
      "text/plain": [
       "10"
      ]
     },
     "execution_count": 1,
     "metadata": {},
     "output_type": "execute_result"
    }
   ],
   "source": [
    "a=10\n",
    "a"
   ]
  },
  {
   "cell_type": "code",
   "execution_count": 2,
   "id": "83425b3e",
   "metadata": {},
   "outputs": [
    {
     "data": {
      "text/plain": [
       "205.5"
      ]
     },
     "execution_count": 2,
     "metadata": {},
     "output_type": "execute_result"
    }
   ],
   "source": [
    "b=205.5\n",
    "b"
   ]
  },
  {
   "cell_type": "markdown",
   "id": "d45a6160",
   "metadata": {},
   "source": [
    "Operation on numeric data types:\n",
    "\n",
    "Addition"
   ]
  },
  {
   "cell_type": "code",
   "execution_count": 3,
   "id": "152f1074",
   "metadata": {},
   "outputs": [
    {
     "data": {
      "text/plain": [
       "2"
      ]
     },
     "execution_count": 3,
     "metadata": {},
     "output_type": "execute_result"
    }
   ],
   "source": [
    "1+1"
   ]
  },
  {
   "cell_type": "markdown",
   "id": "ece10396",
   "metadata": {},
   "source": [
    "Substraction"
   ]
  },
  {
   "cell_type": "code",
   "execution_count": 4,
   "id": "d4922de3",
   "metadata": {},
   "outputs": [
    {
     "data": {
      "text/plain": [
       "3"
      ]
     },
     "execution_count": 4,
     "metadata": {},
     "output_type": "execute_result"
    }
   ],
   "source": [
    "4-1"
   ]
  },
  {
   "cell_type": "markdown",
   "id": "23615d56",
   "metadata": {},
   "source": [
    "Multiplication"
   ]
  },
  {
   "cell_type": "code",
   "execution_count": 5,
   "id": "47cc3511",
   "metadata": {},
   "outputs": [
    {
     "data": {
      "text/plain": [
       "6"
      ]
     },
     "execution_count": 5,
     "metadata": {},
     "output_type": "execute_result"
    }
   ],
   "source": [
    "2*3"
   ]
  },
  {
   "cell_type": "markdown",
   "id": "50fd5acb",
   "metadata": {},
   "source": [
    "Cheack the data type "
   ]
  },
  {
   "cell_type": "code",
   "execution_count": 6,
   "id": "7a35f87b",
   "metadata": {},
   "outputs": [
    {
     "data": {
      "text/plain": [
       "int"
      ]
     },
     "execution_count": 6,
     "metadata": {},
     "output_type": "execute_result"
    }
   ],
   "source": [
    "type(2)"
   ]
  },
  {
   "cell_type": "code",
   "execution_count": 7,
   "id": "c5af8b78",
   "metadata": {},
   "outputs": [
    {
     "data": {
      "text/plain": [
       "float"
      ]
     },
     "execution_count": 7,
     "metadata": {},
     "output_type": "execute_result"
    }
   ],
   "source": [
    "type(10.2345)"
   ]
  },
  {
   "cell_type": "code",
   "execution_count": 8,
   "id": "fb08f78c",
   "metadata": {},
   "outputs": [
    {
     "data": {
      "text/plain": [
       "complex"
      ]
     },
     "execution_count": 8,
     "metadata": {},
     "output_type": "execute_result"
    }
   ],
   "source": [
    "type(100+3j)"
   ]
  },
  {
   "cell_type": "markdown",
   "id": "bf8ea41b",
   "metadata": {},
   "source": [
    " "
   ]
  },
  {
   "cell_type": "markdown",
   "id": "1ebbd343",
   "metadata": {},
   "source": [
    "## Boolean Data Type\n",
    "\n",
    "In Python, the boolean data type is represented by the built-in objects 'True' and 'False'.</br>\n",
    "These objects are instances of the bool class. </br>\n",
    "Booleans are used extensively in Python for decision making, control flow, and logical operations."
   ]
  },
  {
   "cell_type": "code",
   "execution_count": 9,
   "id": "25444246",
   "metadata": {},
   "outputs": [],
   "source": [
    "my_str=\"Anuradha Kumari\""
   ]
  },
  {
   "cell_type": "code",
   "execution_count": 10,
   "id": "6484dbbf",
   "metadata": {},
   "outputs": [
    {
     "data": {
      "text/plain": [
       "True"
      ]
     },
     "execution_count": 10,
     "metadata": {},
     "output_type": "execute_result"
    }
   ],
   "source": [
    "my_str.istitle()"
   ]
  },
  {
   "cell_type": "code",
   "execution_count": 11,
   "id": "1e596db7",
   "metadata": {},
   "outputs": [
    {
     "name": "stdout",
     "output_type": "stream",
     "text": [
      "False\n",
      "False\n",
      "False\n",
      "True\n",
      "False\n",
      "False\n",
      "False\n",
      "False\n",
      "True\n"
     ]
    }
   ],
   "source": [
    "print(my_str.isalnum()) #check if all char are numbers\n",
    "print(my_str.isalpha()) #check if all char in the string are alphabetic\n",
    "print(my_str.isdigit()) #test if string contains digits\n",
    "print(my_str.istitle()) #test if string contains title words\n",
    "print(my_str.isupper()) #test if string contains upper case\n",
    "print(my_str.islower()) #test if string contains lower case\n",
    "print(my_str.isspace()) #test if string contains spaces\n",
    "print(my_str.endswith('A')) #test if string endswith a A\n",
    "print(my_str.startswith('A')) #test if string startswith A"
   ]
  },
  {
   "cell_type": "markdown",
   "id": "f647000d",
   "metadata": {},
   "source": [
    "Boolean and Logical Operators:\n",
    "\n",
    "- and - returns 'True' if both operands are 'True'\n",
    "- or - returns 'True' if either operand is 'True'\n",
    "- not - returns 'True' if the operand is 'False'"
   ]
  },
  {
   "cell_type": "markdown",
   "id": "4cb7b6b8",
   "metadata": {},
   "source": [
    "AND"
   ]
  },
  {
   "cell_type": "code",
   "execution_count": 12,
   "id": "b7b5e7ca",
   "metadata": {},
   "outputs": [
    {
     "data": {
      "text/plain": [
       "True"
      ]
     },
     "execution_count": 12,
     "metadata": {},
     "output_type": "execute_result"
    }
   ],
   "source": [
    "True and True"
   ]
  },
  {
   "cell_type": "code",
   "execution_count": 13,
   "id": "1ce3fe3a",
   "metadata": {},
   "outputs": [
    {
     "data": {
      "text/plain": [
       "False"
      ]
     },
     "execution_count": 13,
     "metadata": {},
     "output_type": "execute_result"
    }
   ],
   "source": [
    "True and False"
   ]
  },
  {
   "cell_type": "code",
   "execution_count": 14,
   "id": "e8bde9fd",
   "metadata": {},
   "outputs": [
    {
     "data": {
      "text/plain": [
       "False"
      ]
     },
     "execution_count": 14,
     "metadata": {},
     "output_type": "execute_result"
    }
   ],
   "source": [
    "False and False"
   ]
  },
  {
   "cell_type": "markdown",
   "id": "5ecf635c",
   "metadata": {},
   "source": [
    "OR"
   ]
  },
  {
   "cell_type": "code",
   "execution_count": 15,
   "id": "772f8c11",
   "metadata": {},
   "outputs": [
    {
     "data": {
      "text/plain": [
       "True"
      ]
     },
     "execution_count": 15,
     "metadata": {},
     "output_type": "execute_result"
    }
   ],
   "source": [
    "True or True"
   ]
  },
  {
   "cell_type": "code",
   "execution_count": 16,
   "id": "7f42b6cb",
   "metadata": {},
   "outputs": [
    {
     "data": {
      "text/plain": [
       "True"
      ]
     },
     "execution_count": 16,
     "metadata": {},
     "output_type": "execute_result"
    }
   ],
   "source": [
    "True or False"
   ]
  },
  {
   "cell_type": "code",
   "execution_count": 17,
   "id": "4ce51977",
   "metadata": {},
   "outputs": [
    {
     "data": {
      "text/plain": [
       "False"
      ]
     },
     "execution_count": 17,
     "metadata": {},
     "output_type": "execute_result"
    }
   ],
   "source": [
    "False or False"
   ]
  },
  {
   "cell_type": "markdown",
   "id": "4cbba728",
   "metadata": {},
   "source": [
    "NOT"
   ]
  },
  {
   "cell_type": "code",
   "execution_count": 18,
   "id": "e7830765",
   "metadata": {},
   "outputs": [
    {
     "data": {
      "text/plain": [
       "False"
      ]
     },
     "execution_count": 18,
     "metadata": {},
     "output_type": "execute_result"
    }
   ],
   "source": [
    "not(True)"
   ]
  },
  {
   "cell_type": "code",
   "execution_count": 19,
   "id": "dde864a7",
   "metadata": {},
   "outputs": [
    {
     "data": {
      "text/plain": [
       "True"
      ]
     },
     "execution_count": 19,
     "metadata": {},
     "output_type": "execute_result"
    }
   ],
   "source": [
    "not(False)"
   ]
  },
  {
   "cell_type": "markdown",
   "id": "8349b1f7",
   "metadata": {},
   "source": [
    " "
   ]
  },
  {
   "cell_type": "markdown",
   "id": "2a04965b",
   "metadata": {},
   "source": [
    "## Strings\n",
    "In Python, a string is a sequence of characters enclosed in single quotes (') or double quotes (\"). "
   ]
  },
  {
   "cell_type": "code",
   "execution_count": 20,
   "id": "55f3f28d",
   "metadata": {},
   "outputs": [
    {
     "data": {
      "text/plain": [
       "'Hello'"
      ]
     },
     "execution_count": 20,
     "metadata": {},
     "output_type": "execute_result"
    }
   ],
   "source": [
    "\"Hello\""
   ]
  },
  {
   "cell_type": "code",
   "execution_count": 21,
   "id": "15360326",
   "metadata": {},
   "outputs": [
    {
     "data": {
      "text/plain": [
       "'Hello'"
      ]
     },
     "execution_count": 21,
     "metadata": {},
     "output_type": "execute_result"
    }
   ],
   "source": [
    "'Hello'"
   ]
  },
  {
   "cell_type": "markdown",
   "id": "1dc26882",
   "metadata": {},
   "source": [
    "Declaring a string variable"
   ]
  },
  {
   "cell_type": "code",
   "execution_count": 22,
   "id": "47d2dc20",
   "metadata": {},
   "outputs": [],
   "source": [
    "name=\"Anuradha Kuamri\""
   ]
  },
  {
   "cell_type": "code",
   "execution_count": 23,
   "id": "36f9eb7f",
   "metadata": {},
   "outputs": [
    {
     "data": {
      "text/plain": [
       "str"
      ]
     },
     "execution_count": 23,
     "metadata": {},
     "output_type": "execute_result"
    }
   ],
   "source": [
    "type(name)"
   ]
  },
  {
   "cell_type": "markdown",
   "id": "4fc15a7e",
   "metadata": {},
   "source": [
    "Accessing individual characters in a string using indexing"
   ]
  },
  {
   "cell_type": "code",
   "execution_count": 24,
   "id": "c507fd65",
   "metadata": {},
   "outputs": [
    {
     "name": "stdout",
     "output_type": "stream",
     "text": [
      "A\n",
      "i\n"
     ]
    }
   ],
   "source": [
    "first_letter = name[0]\n",
    "last_letter = name[-1]\n",
    "print(first_letter)\n",
    "print(last_letter)"
   ]
  },
  {
   "cell_type": "markdown",
   "id": "bcf12d9d",
   "metadata": {},
   "source": [
    "Slicing a string to extract a substring"
   ]
  },
  {
   "cell_type": "code",
   "execution_count": 25,
   "id": "9353915d",
   "metadata": {},
   "outputs": [
    {
     "name": "stdout",
     "output_type": "stream",
     "text": [
      "a Kua\n"
     ]
    }
   ],
   "source": [
    "substring = name[7:12]\n",
    "print(substring)"
   ]
  },
  {
   "cell_type": "markdown",
   "id": "5dac3043",
   "metadata": {},
   "source": [
    "Concatenating two strings using the + operator"
   ]
  },
  {
   "cell_type": "code",
   "execution_count": 26,
   "id": "2f594c04",
   "metadata": {},
   "outputs": [
    {
     "name": "stdout",
     "output_type": "stream",
     "text": [
      "Hello, Anuradha Kuamri!\n"
     ]
    }
   ],
   "source": [
    "message = \"Hello, \" + name + \"!\"\n",
    "print(message)"
   ]
  },
  {
   "cell_type": "markdown",
   "id": "79fe9282",
   "metadata": {},
   "source": [
    "Formatting strings using f-strings"
   ]
  },
  {
   "cell_type": "code",
   "execution_count": 27,
   "id": "391af438",
   "metadata": {},
   "outputs": [
    {
     "name": "stdout",
     "output_type": "stream",
     "text": [
      "My age is 25.\n"
     ]
    }
   ],
   "source": [
    "# Formatting strings using f-strings\n",
    "age = 25\n",
    "message = f\"My age is {age}.\"\n",
    "print(message) # Output: My age is 25."
   ]
  },
  {
   "cell_type": "markdown",
   "id": "0ff8c77d",
   "metadata": {},
   "source": [
    "Various Ways of Printing"
   ]
  },
  {
   "cell_type": "code",
   "execution_count": 28,
   "id": "dbcfc798",
   "metadata": {},
   "outputs": [],
   "source": [
    "first_name='Anuradha'\n",
    "last_name='Kumari'"
   ]
  },
  {
   "cell_type": "code",
   "execution_count": 29,
   "id": "3ec7640d",
   "metadata": {},
   "outputs": [
    {
     "name": "stdout",
     "output_type": "stream",
     "text": [
      "My first name is Anuradha and last name is Kumari\n"
     ]
    }
   ],
   "source": [
    "print(\"My first name is {} and last name is {}\".format(first_name,last_name))"
   ]
  },
  {
   "cell_type": "code",
   "execution_count": 30,
   "id": "fc2db0d4",
   "metadata": {},
   "outputs": [
    {
     "name": "stdout",
     "output_type": "stream",
     "text": [
      "My first name is Anuradha and last name is Kumari\n"
     ]
    }
   ],
   "source": [
    "print(\"My first name is {first} and last name is {last}\".format(last=last_name,first=first_name))"
   ]
  },
  {
   "cell_type": "markdown",
   "id": "a92ac3c4",
   "metadata": {},
   "source": [
    "## Sequence Types: list, tuple, range\n",
    "\n",
    "In Python, sequence types are data types that represent ordered collections of elements.<br/>\n",
    "The three built-in sequence types in Python are lists, tuples, Strings, and ranges.<br/><br/>\n",
    "    - Lists: Square brackets [ ]<br/>\n",
    "    - Tuples: Parentheses ( )<br/>\n",
    "    - Strings: \" \"<br/>\n",
    "    - Ranges: range()<br/>"
   ]
  },
  {
   "cell_type": "markdown",
   "id": "5ff18953",
   "metadata": {},
   "source": [
    "### Lists:\n",
    "\n",
    "A list is a data structure in Python that is a mutable, or changeable, ordered sequence of elements.,</br>\n",
    "Each element or value that is inside of a list is called an item. </br>\n",
    "Just as strings are defined as characters between quotes, lists are defined by having values between square brackets [ ]</br>"
   ]
  },
  {
   "cell_type": "markdown",
   "metadata": {},
   "source": [
    "my_tuple = (1, 2, 3)\n",
    "a, b, c = my_tuple\n",
    "\n",
    "print(a)  # Output: 1\n",
    "print(b)  # Output: 2\n",
    "print(c)  # Output: 3 "
   ]
  },
  {
   "cell_type": "code",
   "execution_count": 31,
   "id": "7493e719",
   "metadata": {},
   "outputs": [
    {
     "data": {
      "text/plain": [
       "list"
      ]
     },
     "execution_count": 31,
     "metadata": {},
     "output_type": "execute_result"
    }
   ],
   "source": [
    "type([])"
   ]
  },
  {
   "cell_type": "markdown",
   "id": "1f711919",
   "metadata": {},
   "source": [
    "Creating a list"
   ]
  },
  {
   "cell_type": "code",
   "execution_count": 32,
   "id": "db6652a4",
   "metadata": {},
   "outputs": [],
   "source": [
    "fruits = ['apple', 'banana', 'cherry']"
   ]
  },
  {
   "cell_type": "markdown",
   "id": "55a22023",
   "metadata": {},
   "source": [
    "Accessing elements in a list using indexing"
   ]
  },
  {
   "cell_type": "code",
   "execution_count": 33,
   "id": "4d5ebfea",
   "metadata": {},
   "outputs": [
    {
     "name": "stdout",
     "output_type": "stream",
     "text": [
      "apple\n",
      "cherry\n"
     ]
    }
   ],
   "source": [
    "first_fruit = fruits[0] # apple\n",
    "last_fruit = fruits[-1] # cherry\n",
    "print(first_fruit)\n",
    "print(last_fruit)"
   ]
  },
  {
   "cell_type": "markdown",
   "id": "71b895ce",
   "metadata": {},
   "source": [
    "Modifying a list"
   ]
  },
  {
   "cell_type": "code",
   "execution_count": 34,
   "id": "c5ff91ed",
   "metadata": {},
   "outputs": [
    {
     "data": {
      "text/plain": [
       "['apple', 'banana', 'cherry', 'orange']"
      ]
     },
     "execution_count": 34,
     "metadata": {},
     "output_type": "execute_result"
    }
   ],
   "source": [
    "fruits.append('orange') # add an element to the end of the list\n",
    "fruits"
   ]
  },
  {
   "cell_type": "code",
   "execution_count": 35,
   "id": "91849678",
   "metadata": {},
   "outputs": [
    {
     "data": {
      "text/plain": [
       "['apple', 'cherry', 'orange']"
      ]
     },
     "execution_count": 35,
     "metadata": {},
     "output_type": "execute_result"
    }
   ],
   "source": [
    "fruits.remove('banana') # remove a specific element\n",
    "fruits"
   ]
  },
  {
   "cell_type": "code",
   "execution_count": 36,
   "id": "996f482f",
   "metadata": {},
   "outputs": [
    {
     "data": {
      "text/plain": [
       "['apple', 'cherry']"
      ]
     },
     "execution_count": 36,
     "metadata": {},
     "output_type": "execute_result"
    }
   ],
   "source": [
    "fruits.pop() # remove the last element from the list\n",
    "fruits"
   ]
  },
  {
   "cell_type": "markdown",
   "id": "d96d770a",
   "metadata": {},
   "source": [
    "Various Operations that we can perform in List"
   ]
  },
  {
   "cell_type": "code",
   "execution_count": 37,
   "id": "cdf417ad",
   "metadata": {},
   "outputs": [],
   "source": [
    "lst=[1,1,1,2,3,4,4,5]"
   ]
  },
  {
   "cell_type": "code",
   "execution_count": 38,
   "id": "b7a72a2e",
   "metadata": {},
   "outputs": [
    {
     "data": {
      "text/plain": [
       "21"
      ]
     },
     "execution_count": 38,
     "metadata": {},
     "output_type": "execute_result"
    }
   ],
   "source": [
    "sum(lst)"
   ]
  },
  {
   "cell_type": "code",
   "execution_count": 39,
   "id": "e36f7051",
   "metadata": {},
   "outputs": [
    {
     "data": {
      "text/plain": [
       "3"
      ]
     },
     "execution_count": 39,
     "metadata": {},
     "output_type": "execute_result"
    }
   ],
   "source": [
    "lst.count(1)"
   ]
  },
  {
   "cell_type": "code",
   "execution_count": 40,
   "id": "2c0583b1",
   "metadata": {},
   "outputs": [
    {
     "data": {
      "text/plain": [
       "8"
      ]
     },
     "execution_count": 40,
     "metadata": {},
     "output_type": "execute_result"
    }
   ],
   "source": [
    "len(lst)"
   ]
  },
  {
   "cell_type": "markdown",
   "id": "78824eb6",
   "metadata": {},
   "source": [
    " "
   ]
  },
  {
   "cell_type": "markdown",
   "id": "0f0780f5",
   "metadata": {},
   "source": [
    " "
   ]
  },
  {
   "cell_type": "markdown",
   "id": "8f3f81fe",
   "metadata": {},
   "source": [
    "### Tuple\n",
    "In Python, a tuple is an ordered collection of elements enclosed in parentheses () separated by commas.</br>\n",
    "Tuples are immutable, which means they cannot be modified once they are created.</br>\n",
    "They are also used in situations where the ordering of elements is important, such as in sorting or indexing operations."
   ]
  },
  {
   "cell_type": "markdown",
   "id": "46b4140b",
   "metadata": {},
   "source": [
    "Creating a tuple"
   ]
  },
  {
   "cell_type": "code",
   "execution_count": 41,
   "id": "f1e314b4",
   "metadata": {},
   "outputs": [],
   "source": [
    "my_tuple = (1, 2, 3)"
   ]
  },
  {
   "cell_type": "markdown",
   "id": "3066fca7",
   "metadata": {},
   "source": [
    "Accessing elements in a tuple"
   ]
  },
  {
   "cell_type": "code",
   "execution_count": 42,
   "id": "094ea668",
   "metadata": {},
   "outputs": [],
   "source": [
    "first_element = my_tuple[0] # 1"
   ]
  },
  {
   "cell_type": "markdown",
   "id": "437f46df",
   "metadata": {},
   "source": [
    "Iterating over a tuple using a for loop"
   ]
  },
  {
   "cell_type": "code",
   "execution_count": 43,
   "id": "835e917f",
   "metadata": {},
   "outputs": [
    {
     "data": {
      "text/plain": [
       "(1, 2, 3, 4, 5, 6)"
      ]
     },
     "execution_count": 43,
     "metadata": {},
     "output_type": "execute_result"
    }
   ],
   "source": [
    "my_tuple_2 = (4, 5, 6)\n",
    "concatenated_tuple = my_tuple + my_tuple_2 # (1, 2, 3, 4, 5, 6)\n",
    "concatenated_tuple"
   ]
  },
  {
   "cell_type": "markdown",
   "id": "b1041f6b",
   "metadata": {},
   "source": [
    "Unpacking a tuple\n",
    "Unpacking a tuple in Python involves assigning the elements of a tuple to individual variables in a single statement. This is a convenient way to extract values from a tuple and assign them to corresponding variables.\n",
    "\n"
   ]
  },
  {
   "cell_type": "code",
   "execution_count": 44,
   "id": "58f81c42",
   "metadata": {},
   "outputs": [
    {
     "name": "stdout",
     "output_type": "stream",
     "text": [
      "1\n",
      "2\n",
      "3\n"
     ]
    }
   ],
   "source": [
    "my_tuple = (1, 2, 3)\n",
    "a, b, c = my_tuple\n",
    "\n",
    "print(a)  # Output: 1\n",
    "print(b)  # Output: 2\n",
    "print(c)  # Output: 3 "
   ]
  },
  {
   "cell_type": "markdown",
   "id": "e2d2e36a",
   "metadata": {},
   "source": [
    "## Sets\n",
    "In Python, a set is an unordered collection of unique elements enclosed in curly braces ({}).</br>\n",
    "Sets are mutable, which means they can be modified by adding or removing elements.</br>\n",
    "Python's set class represents the mathematical notion of a set.</br>\n",
    "This is based on a data structure known as a hash table </br></br>\n",
    "Sets: Curly braces {}"
   ]
  },
  {
   "cell_type": "markdown",
   "id": "6382b355",
   "metadata": {},
   "source": [
    "Creating a set"
   ]
  },
  {
   "cell_type": "code",
   "execution_count": 45,
   "id": "47e984f7",
   "metadata": {},
   "outputs": [],
   "source": [
    "fruits = {'apple', 'banana', 'cherry'}"
   ]
  },
  {
   "cell_type": "markdown",
   "id": "0e6988e4",
   "metadata": {},
   "source": [
    "Adding and removing elements from a set"
   ]
  },
  {
   "cell_type": "code",
   "execution_count": 46,
   "id": "4a91173b",
   "metadata": {},
   "outputs": [
    {
     "data": {
      "text/plain": [
       "{'apple', 'cherry', 'orange'}"
      ]
     },
     "execution_count": 46,
     "metadata": {},
     "output_type": "execute_result"
    }
   ],
   "source": [
    "# Adding an element to a set\n",
    "fruits.add('orange')\n",
    "\n",
    "# Removing an element from a set\n",
    "fruits.remove('banana')\n",
    "fruits"
   ]
  },
  {
   "cell_type": "markdown",
   "id": "86548744",
   "metadata": {},
   "source": [
    "Checking if an element is in a set"
   ]
  },
  {
   "cell_type": "code",
   "execution_count": 47,
   "id": "d89d424d",
   "metadata": {},
   "outputs": [
    {
     "name": "stdout",
     "output_type": "stream",
     "text": [
      "The set contains apple\n"
     ]
    }
   ],
   "source": [
    "if 'apple' in fruits:\n",
    "    print('The set contains apple')"
   ]
  },
  {
   "cell_type": "markdown",
   "id": "50a9bf8e",
   "metadata": {},
   "source": [
    "set operations such as union, intersection, and difference"
   ]
  },
  {
   "cell_type": "code",
   "execution_count": 48,
   "id": "adcec1bc",
   "metadata": {},
   "outputs": [],
   "source": [
    "# Creating two sets\n",
    "set1 = {1, 2, 3}\n",
    "set2 = {3, 4, 5}\n",
    "\n",
    "# Union of two sets\n",
    "union = set1.union(set2) # {1, 2, 3, 4, 5}\n",
    "\n",
    "# Intersection of two sets\n",
    "intersection = set1.intersection(set2) # {3}\n",
    "\n",
    "# Difference of two sets\n",
    "difference = set1.difference(set2) # {1, 2}"
   ]
  },
  {
   "cell_type": "markdown",
   "id": "f11d08d6",
   "metadata": {},
   "source": [
    "Iterating over a set using a for loop"
   ]
  },
  {
   "cell_type": "code",
   "execution_count": 49,
   "id": "969f635c",
   "metadata": {},
   "outputs": [
    {
     "name": "stdout",
     "output_type": "stream",
     "text": [
      "orange\n",
      "cherry\n",
      "apple\n"
     ]
    }
   ],
   "source": [
    "for fruit in fruits:\n",
    "    print(fruit)"
   ]
  },
  {
   "cell_type": "markdown",
   "id": "3540cbcf",
   "metadata": {},
   "source": [
    "## Dictonaries\n",
    "In Python, a dictionary is an unordered collection of key-value pairs enclosed in curly braces ({}).</br>\n",
    "Dictionaries are mutable and can be modified by adding, removing, or changing key-value pairs.</br>\n",
    "Keys in a dictionary must be unique and immutable, while values can be of any data type."
   ]
  },
  {
   "cell_type": "markdown",
   "id": "3291472e",
   "metadata": {},
   "source": [
    "Creating a dictionary"
   ]
  },
  {
   "cell_type": "code",
   "execution_count": 50,
   "id": "3af6bef3",
   "metadata": {},
   "outputs": [],
   "source": [
    "person = {'name': 'John', 'age': 30, 'gender': 'male'}"
   ]
  },
  {
   "cell_type": "markdown",
   "id": "d5bfb209",
   "metadata": {},
   "source": [
    "Accessing values in a dictionary using keys"
   ]
  },
  {
   "cell_type": "code",
   "execution_count": 51,
   "id": "83364de3",
   "metadata": {},
   "outputs": [
    {
     "name": "stdout",
     "output_type": "stream",
     "text": [
      "John\n",
      "30\n"
     ]
    }
   ],
   "source": [
    "Name = person['name']\n",
    "Age = person.get('age',0)\n",
    "\n",
    "print(Name)\n",
    "print(Age)"
   ]
  },
  {
   "cell_type": "markdown",
   "id": "bf36b182",
   "metadata": {},
   "source": [
    "Modifying a dictionary"
   ]
  },
  {
   "cell_type": "code",
   "execution_count": 52,
   "id": "857ae6ed",
   "metadata": {},
   "outputs": [],
   "source": [
    "person['age'] = 31 # change the value of a key\n",
    "person['occupation'] = 'programmer' # add a new key-value pair\n",
    "del person['gender'] # remove a key-value pair"
   ]
  },
  {
   "cell_type": "markdown",
   "id": "e6fde223",
   "metadata": {},
   "source": [
    "Iterating over a dictionary using a for loop"
   ]
  },
  {
   "cell_type": "code",
   "execution_count": 53,
   "id": "d6a916c3",
   "metadata": {},
   "outputs": [
    {
     "name": "stdout",
     "output_type": "stream",
     "text": [
      "name John\n",
      "age 31\n",
      "occupation programmer\n"
     ]
    }
   ],
   "source": [
    "for key, value in person.items():\n",
    "    print(key, value)"
   ]
  },
  {
   "cell_type": "markdown",
   "id": "8abba06c",
   "metadata": {},
   "source": [
    "Checking if a key is in a dictionary"
   ]
  },
  {
   "cell_type": "code",
   "execution_count": 54,
   "id": "20614f6c",
   "metadata": {},
   "outputs": [
    {
     "name": "stdout",
     "output_type": "stream",
     "text": [
      "The dictionary contains a name key\n"
     ]
    }
   ],
   "source": [
    "if 'name' in person:\n",
    "    print('The dictionary contains a name key')"
   ]
  }
 ],
 "metadata": {
  "kernelspec": {
   "display_name": "Python 3 (ipykernel)",
   "language": "python",
   "name": "python3"
  },
  "language_info": {
   "codemirror_mode": {
    "name": "ipython",
    "version": 3
   },
   "file_extension": ".py",
   "mimetype": "text/x-python",
   "name": "python",
   "nbconvert_exporter": "python",
   "pygments_lexer": "ipython3",
   "version": "3.9.6"
  }
 },
 "nbformat": 4,
 "nbformat_minor": 5
}
